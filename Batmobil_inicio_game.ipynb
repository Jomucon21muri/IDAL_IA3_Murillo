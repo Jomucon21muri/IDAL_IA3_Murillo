{
  "nbformat": 4,
  "nbformat_minor": 0,
  "metadata": {
    "colab": {
      "name": "Batmobil_inicio_game.ipynb",
      "provenance": [],
      "authorship_tag": "ABX9TyO0d3K34VgjTmE6ohSmH1r1",
      "include_colab_link": true
    },
    "kernelspec": {
      "name": "python3",
      "display_name": "Python 3"
    }
  },
  "cells": [
    {
      "cell_type": "markdown",
      "metadata": {
        "id": "view-in-github",
        "colab_type": "text"
      },
      "source": [
        "<a href=\"https://colab.research.google.com/github/Jomucon21muri/IDAL_IA3_Murillo/blob/main/Batmobil_inicio_game.ipynb\" target=\"_parent\"><img src=\"https://colab.research.google.com/assets/colab-badge.svg\" alt=\"Open In Colab\"/></a>"
      ]
    },
    {
      "cell_type": "code",
      "metadata": {
        "id": "YiBvHBvn8G1q"
      },
      "source": [
        "class Batmobile:\n",
        "  def __init__ (self, Pilot, gas, n_rockets, n_PEM):\n",
        "    self.Pilot = Pilot\n",
        "    self.gas = gas\n",
        "    self.n_rockets = n_rockets\n",
        "    self.n_PEM = n_PEM\n",
        "\n",
        "# State Batmobile\n",
        "  def state_1 (self):\n",
        "    print(f\" the pilot is {self.Pilot}, {self.gas} of gas left, {self.n_rockets} of rockets left, {self.n_PEM} of PEM left  \")\n",
        "\n",
        "# For every meter you go you lose 0.1l of gas\n",
        "  def forward (self,m_forward):\n",
        "    print(f\" batmobil forward {m_forward} m \")\n",
        "    self.gas = self.gas - (m_forward*0.1)\n",
        "    self.state_1()\n",
        "\n",
        "# For every meter you go you lose 0.2l of gas\n",
        "  def forward_fast (self,m_fastforward):\n",
        "    print(f\" batmobil forward fast {m_fastforward} m \")\n",
        "    self.gas = self.gas - (m_fastforward*0.2)\n",
        "    self.state_1()\n",
        "\n",
        "# For every shot you lose 1  in the n_rockets \n",
        "  def shot_Rocket (self, n_shot_rockets):\n",
        "    self.n_rockets = self.n_rockets - n_shot_rockets\n",
        "    print(f\" batmobil shot {n_shot_rockets} rockets \")\n",
        "    self.state_1()\n",
        "\n",
        "#For every shot you lose 1  in the n_PEM \n",
        "  def shot_PEM (self, n_shot_PEM):\n",
        "    print(f\" batmobil shot {n_shot_PEM} rockets \")\n",
        "    self.n_PEM = self.n_PEM - n_shot_PEM\n",
        "    self.state_1() \n",
        "\n",
        "class Joker:\n",
        "    def __init__(self, KO=False, shot=True):\n",
        "        self.KO = KO\n",
        "        self.shot = shot      \n",
        "\n",
        "class Jokers_villain:\n",
        "    def __init__(self, KO=False, shot=True):\n",
        "        self.KO = KO\n",
        "        self.shot = shot   \n",
        "\n",
        "class Rocket:\n",
        "    def __init__(self,units_rockets):\n",
        "      self.units_rockets = units_rockets      \n",
        "\n",
        "class PEM:\n",
        "    def __init__(self,units_PEM):\n",
        "      self.units_PEM = units_PEM \n",
        "\n",
        "class Gas:\n",
        "    def __init__(self,units_gas):\n",
        "      self.units_gas = units_gas "
      ],
      "execution_count": 43,
      "outputs": []
    },
    {
      "cell_type": "code",
      "metadata": {
        "id": "gZGhWj1SAZjx",
        "outputId": "cb1113ee-e23d-4f81-93b6-234662e8cf96",
        "colab": {
          "base_uri": "https://localhost:8080/"
        }
      },
      "source": [
        "# Star the game:\n",
        "Dirver_sel = input(\"Select your driver Batman and  Robin:\")\n",
        "if Dirver_sel== 'Batman' or Dirver_sel== 'Robin':\n",
        "  print(\"Star the game lika a \" + Dirver_sel)\n",
        "  Star_state = input(\"Do U want charge Batmobile Y/N : \")\n",
        "  if Star_state== 'Y' :\n",
        "    units_gas = int(input(\"Select gas L : \"))\n",
        "    units_rockets = int(input(\"Select nº rockets: \"))\n",
        "    units_PEM = int(input(\"Select nº PEM: \"))\n",
        "    print(\"Batmbole is charge \") \n",
        "    print(\"Let's go \")  \n",
        "  if Star_state== 'N' :  \n",
        "    print(\"Let's go : \")  \n",
        "\n",
        "else :\n",
        "  print(\"GAME OVER\")"
      ],
      "execution_count": 53,
      "outputs": [
        {
          "output_type": "stream",
          "text": [
            "Select your driver Batman and  Robin:Robin\n",
            "Star the game lika a Robin\n",
            "Do U want charge Batmobile Y/N : Y\n",
            "Select gas L : 100\n",
            "Select nº rockets: 50\n",
            "Select nº PEM: 20\n",
            "Batmbole is charge \n",
            "Let's go \n"
          ],
          "name": "stdout"
        }
      ]
    },
    {
      "cell_type": "code",
      "metadata": {
        "id": "JJ5qyvFq8HyN"
      },
      "source": [
        "pilot_1= Batmobile(Pilot= Dirver_sel , gas = units_gas, n_rockets= units_rockets, n_PEM = units_PEM)"
      ],
      "execution_count": 54,
      "outputs": []
    },
    {
      "cell_type": "code",
      "metadata": {
        "id": "uzxWbxcG_aCm",
        "outputId": "46d6c141-1c33-44f9-940c-cd4170dcf423",
        "colab": {
          "base_uri": "https://localhost:8080/"
        }
      },
      "source": [
        "pilot_1.n_PEM"
      ],
      "execution_count": 55,
      "outputs": [
        {
          "output_type": "execute_result",
          "data": {
            "text/plain": [
              "20"
            ]
          },
          "metadata": {
            "tags": []
          },
          "execution_count": 55
        }
      ]
    },
    {
      "cell_type": "code",
      "metadata": {
        "id": "9e6Hm3-MAwqf",
        "outputId": "4b8f4372-9a80-4745-ff13-597be25d9b45",
        "colab": {
          "base_uri": "https://localhost:8080/"
        }
      },
      "source": [
        "pilot_1.shot_Rocket(n_shot_rockets = 5)"
      ],
      "execution_count": 56,
      "outputs": [
        {
          "output_type": "stream",
          "text": [
            " batmobil shot 5 rockets \n",
            " the pilot is Robin, 100 of gas left, 45 of rockets left, 20 of PEM left  \n"
          ],
          "name": "stdout"
        }
      ]
    },
    {
      "cell_type": "code",
      "metadata": {
        "id": "FBr5nMl3Bfe6",
        "outputId": "59e1daec-da57-4f08-a2cb-df38389f4496",
        "colab": {
          "base_uri": "https://localhost:8080/"
        }
      },
      "source": [
        "pilot_1.shot_PEM(n_shot_PEM = 7)"
      ],
      "execution_count": 57,
      "outputs": [
        {
          "output_type": "stream",
          "text": [
            " batmobil shot 7 rockets \n",
            " the pilot is Robin, 100 of gas left, 45 of rockets left, 13 of PEM left  \n"
          ],
          "name": "stdout"
        }
      ]
    },
    {
      "cell_type": "code",
      "metadata": {
        "id": "AIUYseDwBv9l",
        "outputId": "6e01340a-125b-47c8-ffdb-6da0d577468c",
        "colab": {
          "base_uri": "https://localhost:8080/"
        }
      },
      "source": [
        "pilot_1.shot_Rocket(n_shot_rockets = 13)"
      ],
      "execution_count": 58,
      "outputs": [
        {
          "output_type": "stream",
          "text": [
            " batmobil shot 13 rockets \n",
            " the pilot is Robin, 100 of gas left, 32 of rockets left, 13 of PEM left  \n"
          ],
          "name": "stdout"
        }
      ]
    },
    {
      "cell_type": "code",
      "metadata": {
        "id": "4vLr20E2H5ws",
        "outputId": "0501d90c-7977-40f0-86fa-a6c895fadb99",
        "colab": {
          "base_uri": "https://localhost:8080/"
        }
      },
      "source": [
        "pilot_1.forward(m_forward = 120)"
      ],
      "execution_count": 59,
      "outputs": [
        {
          "output_type": "stream",
          "text": [
            " batmobil forward 120 m \n",
            " the pilot is Robin, 88.0 of gas left, 32 of rockets left, 13 of PEM left  \n"
          ],
          "name": "stdout"
        }
      ]
    },
    {
      "cell_type": "code",
      "metadata": {
        "id": "edpxyb3VIDD0",
        "outputId": "a49ea4d7-3465-43af-f3a9-2cdff71934b6",
        "colab": {
          "base_uri": "https://localhost:8080/"
        }
      },
      "source": [
        "pilot_1.forward(m_forward = 150)"
      ],
      "execution_count": 60,
      "outputs": [
        {
          "output_type": "stream",
          "text": [
            " batmobil forward 150 m \n",
            " the pilot is Robin, 73.0 of gas left, 32 of rockets left, 13 of PEM left  \n"
          ],
          "name": "stdout"
        }
      ]
    },
    {
      "cell_type": "code",
      "metadata": {
        "id": "g9TEjtvsIIMR",
        "outputId": "87b84cea-d3b8-4ee3-a543-3e49db0b0f40",
        "colab": {
          "base_uri": "https://localhost:8080/"
        }
      },
      "source": [
        "pilot_1.forward_fast(m_fastforward = 120)"
      ],
      "execution_count": 61,
      "outputs": [
        {
          "output_type": "stream",
          "text": [
            " batmobil forward fast 120 m \n",
            " the pilot is Robin, 49.0 of gas left, 32 of rockets left, 13 of PEM left  \n"
          ],
          "name": "stdout"
        }
      ]
    },
    {
      "cell_type": "code",
      "metadata": {
        "id": "QQzNJ-nXJoX1"
      },
      "source": [
        ""
      ],
      "execution_count": null,
      "outputs": []
    }
  ]
}